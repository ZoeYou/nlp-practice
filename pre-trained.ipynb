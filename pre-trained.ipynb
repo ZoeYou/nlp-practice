{
 "metadata": {
  "language_info": {
   "codemirror_mode": {
    "name": "ipython",
    "version": 3
   },
   "file_extension": ".py",
   "mimetype": "text/x-python",
   "name": "python",
   "nbconvert_exporter": "python",
   "pygments_lexer": "ipython3",
   "version": "3.7.4-final"
  },
  "orig_nbformat": 2,
  "kernelspec": {
   "name": "python3",
   "display_name": "Python 3"
  }
 },
 "nbformat": 4,
 "nbformat_minor": 2,
 "cells": [
  {
   "source": [
    "# Case Study: Learning Embeddings from Scratch vs. Pretrained Word Embeddings"
   ],
   "cell_type": "markdown",
   "metadata": {}
  },
  {
   "cell_type": "code",
   "execution_count": 1,
   "metadata": {},
   "outputs": [],
   "source": [
    "#importing libraries\n",
    "import pandas as pd\n",
    "import numpy as np\n",
    "\n",
    "#reading csv files\n",
    "train = pd.read_csv('sentiment-analysis/Train.csv')\n",
    "valid = pd.read_csv('sentiment-analysis/Valid.csv')             \n",
    "\n",
    "#train_test split\n",
    "x_tr, y_tr = train['text'].values, train['label'].values\n",
    "x_val, y_val = valid['text'].values, valid['label'].values"
   ]
  },
  {
   "cell_type": "code",
   "execution_count": 2,
   "metadata": {},
   "outputs": [
    {
     "output_type": "execute_result",
     "data": {
      "text/plain": [
       "                                                text  label\n",
       "0  I grew up (b. 1965) watching and loving the Th...      0\n",
       "1  When I put this movie in my DVD player, and sa...      0\n",
       "2  Why do people who do not know what a particula...      0\n",
       "3  Even though I have great interest in Biblical ...      0\n",
       "4  Im a die hard Dads Army fan and nothing will e...      1"
      ],
      "text/html": "<div>\n<style scoped>\n    .dataframe tbody tr th:only-of-type {\n        vertical-align: middle;\n    }\n\n    .dataframe tbody tr th {\n        vertical-align: top;\n    }\n\n    .dataframe thead th {\n        text-align: right;\n    }\n</style>\n<table border=\"1\" class=\"dataframe\">\n  <thead>\n    <tr style=\"text-align: right;\">\n      <th></th>\n      <th>text</th>\n      <th>label</th>\n    </tr>\n  </thead>\n  <tbody>\n    <tr>\n      <td>0</td>\n      <td>I grew up (b. 1965) watching and loving the Th...</td>\n      <td>0</td>\n    </tr>\n    <tr>\n      <td>1</td>\n      <td>When I put this movie in my DVD player, and sa...</td>\n      <td>0</td>\n    </tr>\n    <tr>\n      <td>2</td>\n      <td>Why do people who do not know what a particula...</td>\n      <td>0</td>\n    </tr>\n    <tr>\n      <td>3</td>\n      <td>Even though I have great interest in Biblical ...</td>\n      <td>0</td>\n    </tr>\n    <tr>\n      <td>4</td>\n      <td>Im a die hard Dads Army fan and nothing will e...</td>\n      <td>1</td>\n    </tr>\n  </tbody>\n</table>\n</div>"
     },
     "metadata": {},
     "execution_count": 2
    }
   ],
   "source": [
    "train.head()"
   ]
  },
  {
   "cell_type": "code",
   "execution_count": 3,
   "metadata": {},
   "outputs": [
    {
     "output_type": "stream",
     "name": "stderr",
     "text": [
      "Using TensorFlow backend.\n"
     ]
    }
   ],
   "source": [
    "from keras.preprocessing.text import Tokenizer\n",
    "from keras.preprocessing.sequence import pad_sequences\n",
    "\n",
    "#Tokenize the sentences\n",
    "tokenizer = Tokenizer()\n",
    "\n",
    "#preparing vocabulary\n",
    "tokenizer.fit_on_texts(list(x_tr))\n",
    "\n",
    "#converting text into integer sequences\n",
    "x_tr_seq  = tokenizer.texts_to_sequences(x_tr) \n",
    "x_val_seq = tokenizer.texts_to_sequences(x_val)\n",
    "\n",
    "#padding to prepare sequences of same length\n",
    "x_tr_seq  = pad_sequences(x_tr_seq, maxlen=100)\n",
    "x_val_seq = pad_sequences(x_val_seq, maxlen=100)"
   ]
  },
  {
   "cell_type": "code",
   "execution_count": 4,
   "metadata": {},
   "outputs": [
    {
     "output_type": "stream",
     "name": "stdout",
     "text": [
      "112204\n"
     ]
    }
   ],
   "source": [
    "size_of_vocabulary=len(tokenizer.word_index) + 1 #+1 for padding\n",
    "print(size_of_vocabulary)"
   ]
  },
  {
   "source": [
    "We will build two different NLP models of the same architecture. The first model learns embeddings from scratch and the second model uses pretrained word embeddings."
   ],
   "cell_type": "markdown",
   "metadata": {}
  },
  {
   "cell_type": "code",
   "execution_count": 9,
   "metadata": {},
   "outputs": [
    {
     "output_type": "stream",
     "name": "stdout",
     "text": [
      "_________________________________________________________________\nLayer (type)                 Output Shape              Param #   \n=================================================================\nembedding_2 (Embedding)      (None, 100, 300)          33661200  \n_________________________________________________________________\nlstm_2 (LSTM)                (None, 100, 128)          219648    \n_________________________________________________________________\nglobal_max_pooling1d_2 (Glob (None, 128)               0         \n_________________________________________________________________\ndense_3 (Dense)              (None, 64)                8256      \n_________________________________________________________________\ndense_4 (Dense)              (None, 1)                 65        \n=================================================================\nTotal params: 33,889,169\nTrainable params: 33,889,169\nNon-trainable params: 0\n_________________________________________________________________\nNone\n"
     ]
    }
   ],
   "source": [
    "# Defining the architecture – Learning Embeddings from scratch:\n",
    "#deep learning library\n",
    "import tensorflow as tf\n",
    "from keras.models import *\n",
    "from keras.layers import *\n",
    "from keras.callbacks import *\n",
    "\n",
    "model=Sequential()\n",
    "\n",
    "#embedding layer\n",
    "model.add(Embedding(input_dim=size_of_vocabulary,output_dim=300,input_length=100,trainable=True)) \n",
    "\n",
    "#lstm layer\n",
    "model.add(LSTM(128,return_sequences=True,dropout=0.2))\n",
    "\n",
    "#Global Maxpooling\n",
    "model.add(GlobalMaxPooling1D())\n",
    "\n",
    "#Dense Layer\n",
    "model.add(Dense(64,activation='relu')) \n",
    "model.add(Dense(1,activation='sigmoid')) \n",
    "\n",
    "#Add loss function, metrics, optimizer\n",
    "model.compile(optimizer='adam', loss='binary_crossentropy',metrics=[\"acc\"]) \n",
    "\n",
    "#Adding callbacks\n",
    "es = EarlyStopping(monitor='val_loss', mode='min', verbose=1,patience=3)  \n",
    "mc = ModelCheckpoint('best_model.h5', monitor='val_acc', mode='max', save_best_only=True,verbose=1)  \n",
    "\n",
    "#Print summary of model\n",
    "print(model.summary())"
   ]
  },
  {
   "source": [
    "The total number of trainable parameters in the model is 33,889,169. Out of this, the Embedding layer contributes to 33,661,200 parameters. That’s huge!"
   ],
   "cell_type": "markdown",
   "metadata": {}
  },
  {
   "cell_type": "code",
   "execution_count": 10,
   "metadata": {},
   "outputs": [
    {
     "output_type": "stream",
     "name": "stdout",
     "text": [
      "Train on 40000 samples, validate on 5000 samples\n",
      "Epoch 1/10\n",
      "40000/40000 [==============================] - 364s 9ms/step - loss: 0.4092 - acc: 0.8085 - val_loss: 0.3099 - val_acc: 0.8652\n",
      "\n",
      "Epoch 00001: val_acc improved from -inf to 0.86520, saving model to best_model.h5\n",
      "Epoch 2/10\n",
      "40000/40000 [==============================] - 310s 8ms/step - loss: 0.2059 - acc: 0.9196 - val_loss: 0.3225 - val_acc: 0.8640\n",
      "\n",
      "Epoch 00002: val_acc did not improve from 0.86520\n",
      "Epoch 3/10\n",
      "40000/40000 [==============================] - 401s 10ms/step - loss: 0.1016 - acc: 0.9651 - val_loss: 0.4425 - val_acc: 0.8642\n",
      "\n",
      "Epoch 00003: val_acc did not improve from 0.86520\n",
      "Epoch 4/10\n",
      "40000/40000 [==============================] - 396s 10ms/step - loss: 0.0483 - acc: 0.9842 - val_loss: 0.5666 - val_acc: 0.8512\n",
      "\n",
      "Epoch 00004: val_acc did not improve from 0.86520\n",
      "Epoch 00004: early stopping\n"
     ]
    }
   ],
   "source": [
    "history = model.fit(np.array(x_tr_seq),np.array(y_tr),batch_size=128,epochs=10,validation_data=(np.array(x_val_seq),np.array(y_val)),verbose=1,callbacks=[es,mc])"
   ]
  },
  {
   "cell_type": "code",
   "execution_count": 11,
   "metadata": {},
   "outputs": [
    {
     "output_type": "stream",
     "name": "stdout",
     "text": [
      "5000/5000 [==============================] - 8s 2ms/step\n",
      "0.8652\n"
     ]
    }
   ],
   "source": [
    "# Evaluating the performance of the model:\n",
    "\n",
    "#loading best model\n",
    "from keras.models import load_model\n",
    "model = load_model('best_model.h5')\n",
    "\n",
    "#evaluation \n",
    "_,val_acc = model.evaluate(x_val_seq,y_val, batch_size=128)\n",
    "print(val_acc)"
   ]
  },
  {
   "cell_type": "code",
   "execution_count": 18,
   "metadata": {},
   "outputs": [
    {
     "output_type": "stream",
     "name": "stdout",
     "text": [
      "Loaded 400000 word vectors.\n"
     ]
    }
   ],
   "source": [
    "# build version II using GloVe pretrained word embeddings\n",
    "\n",
    "# load the whole embedding into memory\n",
    "embeddings_index = dict()\n",
    "f = open('glove.6B.300d.txt')\n",
    "\n",
    "for line in f:\n",
    "    values = line.split()\n",
    "    word = values[0]\n",
    "    coefs = np.asarray(values[1:], dtype='float32')\n",
    "    embeddings_index[word] = coefs\n",
    "\n",
    "f.close()\n",
    "print('Loaded %s word vectors.' % len(embeddings_index))"
   ]
  },
  {
   "cell_type": "code",
   "execution_count": 19,
   "metadata": {},
   "outputs": [],
   "source": [
    "# create a weight matrix for words in training docs\n",
    "embedding_matrix = np.zeros((size_of_vocabulary, 300))\n",
    "\n",
    "for word, i in tokenizer.word_index.items():\n",
    "    embedding_vector = embeddings_index.get(word)\n",
    "    if embedding_vector is not None:\n",
    "        embedding_matrix[i] = embedding_vector"
   ]
  },
  {
   "cell_type": "code",
   "execution_count": 20,
   "metadata": {},
   "outputs": [
    {
     "output_type": "stream",
     "name": "stdout",
     "text": [
      "_________________________________________________________________\nLayer (type)                 Output Shape              Param #   \n=================================================================\nembedding_4 (Embedding)      (None, 100, 300)          33661200  \n_________________________________________________________________\nlstm_4 (LSTM)                (None, 100, 128)          219648    \n_________________________________________________________________\nglobal_max_pooling1d_4 (Glob (None, 128)               0         \n_________________________________________________________________\ndense_7 (Dense)              (None, 64)                8256      \n_________________________________________________________________\ndense_8 (Dense)              (None, 1)                 65        \n=================================================================\nTotal params: 33,889,169\nTrainable params: 227,969\nNon-trainable params: 33,661,200\n_________________________________________________________________\nNone\n"
     ]
    }
   ],
   "source": [
    "# Defining the Architecture – Pretrained embeddings:\n",
    "\n",
    "model=Sequential()\n",
    "\n",
    "#embedding layer\n",
    "model.add(Embedding(size_of_vocabulary,300,weights=[embedding_matrix],input_length=100,trainable=False)) \n",
    "\n",
    "#lstm layer\n",
    "model.add(LSTM(128,return_sequences=True,dropout=0.2))\n",
    "\n",
    "#Global Maxpooling\n",
    "model.add(GlobalMaxPooling1D())\n",
    "\n",
    "#Dense Layer\n",
    "model.add(Dense(64,activation='relu')) \n",
    "model.add(Dense(1,activation='sigmoid')) \n",
    "\n",
    "#Add loss function, metrics, optimizer\n",
    "model.compile(optimizer='adam', loss='binary_crossentropy',metrics=[\"acc\"]) \n",
    "\n",
    "#Adding callbacks\n",
    "es = EarlyStopping(monitor='val_loss', mode='min', verbose=1,patience=3)  \n",
    "mc=ModelCheckpoint('best_model.h5', monitor='val_acc', mode='max', save_best_only=True,verbose=1)  \n",
    "\n",
    "#Print summary of model\n",
    "print(model.summary())"
   ]
  },
  {
   "source": [
    "The number of trainable parameters is just 227,969. That’s a huge drop compared to the embedding layer."
   ],
   "cell_type": "markdown",
   "metadata": {}
  },
  {
   "cell_type": "code",
   "execution_count": 21,
   "metadata": {},
   "outputs": [
    {
     "output_type": "stream",
     "name": "stdout",
     "text": [
      "Train on 40000 samples, validate on 5000 samples\n",
      "Epoch 1/10\n",
      "40000/40000 [==============================] - 140s 4ms/step - loss: 0.4513 - acc: 0.7772 - val_loss: 0.3600 - val_acc: 0.8394\n",
      "\n",
      "Epoch 00001: val_acc improved from -inf to 0.83940, saving model to best_model.h5\n",
      "Epoch 2/10\n",
      "40000/40000 [==============================] - 128s 3ms/step - loss: 0.3376 - acc: 0.8505 - val_loss: 0.3156 - val_acc: 0.8624\n",
      "\n",
      "Epoch 00002: val_acc improved from 0.83940 to 0.86240, saving model to best_model.h5\n",
      "Epoch 3/10\n",
      "40000/40000 [==============================] - 143s 4ms/step - loss: 0.2954 - acc: 0.8734 - val_loss: 0.3257 - val_acc: 0.8528\n",
      "\n",
      "Epoch 00003: val_acc did not improve from 0.86240\n",
      "Epoch 4/10\n",
      "40000/40000 [==============================] - 123s 3ms/step - loss: 0.2609 - acc: 0.8913 - val_loss: 0.3112 - val_acc: 0.8672\n",
      "\n",
      "Epoch 00004: val_acc improved from 0.86240 to 0.86720, saving model to best_model.h5\n",
      "Epoch 5/10\n",
      "40000/40000 [==============================] - 156s 4ms/step - loss: 0.2284 - acc: 0.9057 - val_loss: 0.3083 - val_acc: 0.8736\n",
      "\n",
      "Epoch 00005: val_acc improved from 0.86720 to 0.87360, saving model to best_model.h5\n",
      "Epoch 6/10\n",
      "40000/40000 [==============================] - 132s 3ms/step - loss: 0.1962 - acc: 0.9215 - val_loss: 0.3047 - val_acc: 0.8766\n",
      "\n",
      "Epoch 00006: val_acc improved from 0.87360 to 0.87660, saving model to best_model.h5\n",
      "Epoch 7/10\n",
      "40000/40000 [==============================] - 149s 4ms/step - loss: 0.1712 - acc: 0.9322 - val_loss: 0.3590 - val_acc: 0.8620\n",
      "\n",
      "Epoch 00007: val_acc did not improve from 0.87660\n",
      "Epoch 8/10\n",
      "40000/40000 [==============================] - 159s 4ms/step - loss: 0.1460 - acc: 0.9436 - val_loss: 0.3338 - val_acc: 0.8774\n",
      "\n",
      "Epoch 00008: val_acc improved from 0.87660 to 0.87740, saving model to best_model.h5\n",
      "Epoch 9/10\n",
      "40000/40000 [==============================] - 147s 4ms/step - loss: 0.1240 - acc: 0.9519 - val_loss: 0.3524 - val_acc: 0.8728\n",
      "\n",
      "Epoch 00009: val_acc did not improve from 0.87740\n",
      "Epoch 00009: early stopping\n"
     ]
    }
   ],
   "source": [
    "history = model.fit(np.array(x_tr_seq),np.array(y_tr),batch_size=128,epochs=10,validation_data=(np.array(x_val_seq),np.array(y_val)),verbose=1,callbacks=[es,mc])"
   ]
  },
  {
   "cell_type": "code",
   "execution_count": 22,
   "metadata": {},
   "outputs": [
    {
     "output_type": "stream",
     "name": "stdout",
     "text": [
      "5000/5000 [==============================] - 6s 1ms/step\n",
      "0.8774\n"
     ]
    }
   ],
   "source": [
    "#loading best model\n",
    "from keras.models import load_model\n",
    "model = load_model('best_model.h5')\n",
    "\n",
    "#evaluation \n",
    "_,val_acc = model.evaluate(x_val_seq,y_val, batch_size=128)\n",
    "print(val_acc)"
   ]
  }
 ]
}